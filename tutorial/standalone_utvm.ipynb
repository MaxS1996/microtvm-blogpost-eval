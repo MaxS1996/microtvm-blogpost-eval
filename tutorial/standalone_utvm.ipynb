{
 "cells": [
  {
   "cell_type": "code",
   "execution_count": null,
   "metadata": {},
   "outputs": [],
   "source": [
    "%matplotlib inline"
   ]
  },
  {
   "cell_type": "markdown",
   "metadata": {},
   "source": [
    "\n",
    "# MicroTVM Host-Driven Example\n",
    "\n",
    "**Author**: `Andrew Reusch <areusch@octoml.ai>`_\n",
    "\n",
    "**Changes for Nucleo STM32L496ZG**: `Max Sponner`\n",
    "\n"
   ]
  },
  {
   "cell_type": "markdown",
   "metadata": {},
   "source": [
    "TVMConf 2020\n",
    "\n",
    "This tutorial walks you through the process of deploying a model on-device using microTVM.\n",
    "We'll use a model adapted from ARM's pre-quantized [CIFAR10-CNN tutorial](https://github.com/ARM-software/ML-examples/tree/master/cmsisnn-cifar10/models) and run it on an ARM M-class microcontroller.\n",
    "\n",
    "Importing the Model\n",
    "-------------------\n",
    "\n",
    "We'll use the utilties in the microtvm blogpost repo to import and load the model:\n",
    "\n"
   ]
  },
  {
   "cell_type": "code",
   "execution_count": null,
   "metadata": {},
   "outputs": [],
   "source": [
    "import os\n",
    "\n",
    "import tvm\n",
    "import tvm.relay\n",
    "\n",
    "import micro_eval\n",
    "from micro_eval import model\n",
    "\n",
    "microtvm_blogpost_path = os.path.realpath(os.path.join(micro_eval.__file__, '..', '..', '..'))\n",
    "config_path = os.path.join(microtvm_blogpost_path, 'data', 'cifar10-config-validate.json')\n",
    "model_inst, _ = model.instantiate_from_spec(f'cifar10_cnn:micro_dev:{config_path}')\n",
    "\n",
    "compiled_model = model_inst.build_model()\n",
    "\n",
    "relay_model, params = compiled_model.ir_mod, compiled_model.params"
   ]
  },
  {
   "cell_type": "markdown",
   "metadata": {},
   "source": [
    "Great! We now have a Relay model and accompanying parameters. Let's take a look:\n",
    "\n"
   ]
  },
  {
   "cell_type": "code",
   "execution_count": null,
   "metadata": {},
   "outputs": [],
   "source": [
    "print(relay_model)"
   ]
  },
  {
   "cell_type": "markdown",
   "metadata": {},
   "source": [
    "And we now have some parameters:\n",
    "\n"
   ]
  },
  {
   "cell_type": "code",
   "execution_count": null,
   "metadata": {},
   "outputs": [],
   "source": [
    "print('Parameters')\n",
    "for k, v in params.items():\n",
    "  print(f' * {k}: {v.shape}')"
   ]
  },
  {
   "cell_type": "markdown",
   "metadata": {},
   "source": [
    "Compiling the Model\n",
    "-------------------\n",
    "\n",
    "Let's now run the TVM compiler. This step will lower the model all the way through the TIR to C.\n",
    "First, we need to define the target we will use with TVM:\n",
    "\n"
   ]
  },
  {
   "cell_type": "code",
   "execution_count": null,
   "metadata": {},
   "outputs": [],
   "source": [
    "TARGET = tvm.target.target.create('c -keys=arm_cpu -mcpu=cortex-m4 -link-params -model=stm32l496xx -runtime=c -system-lib=1')"
   ]
  },
  {
   "cell_type": "markdown",
   "metadata": {},
   "source": [
    "This target has a few parts:\n",
    "\n",
    " - ```-keys=arm_cpu```: Enables operator schedules used on ARM cpus\n",
    " - ```-mcpu=cortex-m4```: Specifies the CPU we will use with this model.\n",
    " - ```-link-params```: Link supplied model parameters as constants in the generated code.\n",
    " - ```-model=stm32l496xx```: Hint to the compiler of the CPU model. Mostly unused at this time.\n",
    " - ```-runtime=c```: Build code for the TVM C runtime (i.e. the bare-metal compatible one).\n",
    " - ```-system-lib```: Build a \"system library.\" In deployments, the system library is pre-loaded into\n",
    "   the runtime, rather than a library that needs to be loaded e.g. from a file. This is the simplest\n",
    "   configuration for a bare-metal microcontroller, so we use it here.\n",
    "\n",
    "Now we can run the compiler:\n",
    "\n"
   ]
  },
  {
   "cell_type": "code",
   "execution_count": null,
   "metadata": {},
   "outputs": [],
   "source": [
    "with tvm.transform.PassContext(opt_level=3, config={'tir.disable_vectorize': True}):\n",
    "  graph_json, compiled_model, simplified_params = tvm.relay.build(\n",
    "    relay_model, target=TARGET, params=params)"
   ]
  },
  {
   "cell_type": "markdown",
   "metadata": {},
   "source": [
    "Now we've lowered our model into C. Let's look at a fragment:\n",
    "\n"
   ]
  },
  {
   "cell_type": "code",
   "execution_count": null,
   "metadata": {},
   "outputs": [],
   "source": [
    "print('\\n'.join(compiled_model.imported_modules[0].get_source().split('\\n')[:800]))"
   ]
  },
  {
   "cell_type": "markdown",
   "metadata": {},
   "source": [
    "We can also look at the generated FuncRegistry:"
   ]
  },
  {
   "cell_type": "code",
   "execution_count": null,
   "metadata": {},
   "outputs": [],
   "source": [
    "print(compiled_model.get_source())"
   ]
  },
  {
   "cell_type": "markdown",
   "metadata": {},
   "source": [
    "Let's also look at the simplified parameters:\n",
    "\n"
   ]
  },
  {
   "cell_type": "code",
   "execution_count": null,
   "metadata": {},
   "outputs": [],
   "source": [
    "print('Simplified Parameters')\n",
    "for k, v in simplified_params.items():\n",
    "  print(f' * {k}: {v.shape}')\n",
    "\n",
    "print(graph_json)"
   ]
  },
  {
   "cell_type": "markdown",
   "metadata": {},
   "source": [
    "Building a host-driven binary\n",
    "-----------------------------\n",
    "\n",
    "First we'll build a firmware binary that can be controlled using an attached host computer over\n",
    "UART. This is a great way to try out the network while writing minimal firmware, and it's also\n",
    "how autotuning is accomplished. We'll re-use the compilation flow we use with autotuning:\n",
    "\n"
   ]
  },
  {
   "cell_type": "code",
   "execution_count": null,
   "metadata": {},
   "outputs": [],
   "source": [
    "from tvm.micro.contrib import zephyr\n",
    "opts = model_inst.get_micro_compiler_opts()\n",
    "opts['lib_opts']['cmake_args'] = ['-DCMAKE_VERBOSE_MAKEFILE=1']\n",
    "\n",
    "# Instantiate the compiler.\n",
    "compiler = zephyr.ZephyrCompiler(os.path.join(microtvm_blogpost_path, 'runtimes', 'zephyr'),\n",
    "                                 board='nucleo_l496zg',\n",
    "                                 zephyr_toolchain_variant='zephyr')\n",
    "\n",
    "# A Workspace is a directory that holds compiled libraries.\n",
    "workspace = tvm.micro.Workspace(debug=True)\n",
    "\n",
    "# Build the micro-binary, which represents the final firmware image.\n",
    "micro_bin = tvm.micro.build_static_runtime(workspace, compiler, compiled_model, **opts)"
   ]
  },
  {
   "cell_type": "code",
   "execution_count": null,
   "metadata": {},
   "outputs": [],
   "source": [
    "print(os.path.join(micro_bin.base_dir, micro_bin.binary_file))\n",
    "!~/zephyr-sdk/arm-zephyr-eabi/bin/arm-zephyr-eabi-size {os.path.join(micro_bin.base_dir, micro_bin.binary_file)}"
   ]
  },
  {
   "cell_type": "markdown",
   "metadata": {},
   "source": [
    "Generating test data\n",
    "--------------------\n",
    "\n",
    "Now we'll generate some test data to be used to demonstrate inference. We use the dataset\n",
    "generator from the microtvm blog post:\n",
    "\n"
   ]
  },
  {
   "cell_type": "code",
   "execution_count": null,
   "metadata": {},
   "outputs": [],
   "source": [
    "from micro_eval import dataset\n",
    "dataset_gen = dataset.DatasetGenerator.instantiate('cifar10', {'shuffle': False})\n",
    "\n",
    "samples = dataset_gen.generate(1)\n",
    "\n",
    "# Adapt samples as needed to accomodate the modified input shape.\n",
    "inputs = model_inst.adapt_sample_inputs(samples[0].inputs)"
   ]
  },
  {
   "cell_type": "code",
   "execution_count": null,
   "metadata": {},
   "outputs": [],
   "source": [
    "print(inputs['data'].data)"
   ]
  },
  {
   "cell_type": "markdown",
   "metadata": {},
   "source": [
    "Flashing and Running\n",
    "--------------------\n",
    "\n",
    "Now we'll flash the binary onto an attached development board and establish communication.\n",
    "\n"
   ]
  },
  {
   "cell_type": "code",
   "execution_count": null,
   "metadata": {},
   "outputs": [],
   "source": [
    "with tvm.micro.Session(binary=micro_bin, flasher=compiler.flasher()) as sess:\n",
    "  mod = tvm.micro.create_local_graph_runtime(graph_json, sess.get_system_lib(), sess.context)\n",
    "  mod.set_input('data', inputs['data'].data)  # NOTE: the simplified params are set from flash.\n",
    "  mod.run()\n",
    "\n",
    "  micro_output = mod.get_output(0).asnumpy()\n",
    "\n",
    "print('micro:', micro_output)"
   ]
  },
  {
   "cell_type": "markdown",
   "metadata": {},
   "source": [
    "Checking our work\n",
    "-----------------\n",
    "\n",
    "We can check the output from executing on-device against output from the host.\n",
    "\n"
   ]
  },
  {
   "cell_type": "code",
   "execution_count": null,
   "metadata": {},
   "outputs": [],
   "source": [
    "model_inst, _ = model.instantiate_from_spec(f'cifar10_cnn:cpu:{config_path}')\n",
    "\n",
    "compiled_model = model_inst.build_model()\n",
    "\n",
    "cpu_relay_model, cpu_params = compiled_model.ir_mod, compiled_model.params\n",
    "cpu_inputs = model_inst.adapt_sample_inputs(samples[0].inputs)\n",
    "\n",
    "with tvm.transform.PassContext(opt_level=3, disabled_pass={\"AlterOpLayout\"}):\n",
    "  cpu_graph_json, cpu_mod, cpu_simplified_params = tvm.relay.build(\n",
    "    cpu_relay_model, target=\"llvm\", params=cpu_params)\n",
    "\n",
    "graph_mod = tvm.contrib.graph_runtime.create(cpu_graph_json, cpu_mod, tvm.cpu(0))\n",
    "graph_mod.set_input('data', cpu_inputs['data'].data, **cpu_simplified_params)\n",
    "graph_mod.run()\n",
    "cpu_output = graph_mod.get_output(0)\n",
    "\n",
    "print('cpu:', cpu_output)"
   ]
  },
  {
   "cell_type": "code",
   "execution_count": null,
   "metadata": {},
   "outputs": [],
   "source": []
  }
 ],
 "metadata": {
  "kernelspec": {
   "display_name": "Python 3",
   "language": "python",
   "name": "python3"
  },
  "language_info": {
   "codemirror_mode": {
    "name": "ipython",
    "version": 3
   },
   "file_extension": ".py",
   "mimetype": "text/x-python",
   "name": "python",
   "nbconvert_exporter": "python",
   "pygments_lexer": "ipython3",
   "version": "3.6.9"
  }
 },
 "nbformat": 4,
 "nbformat_minor": 1
}
